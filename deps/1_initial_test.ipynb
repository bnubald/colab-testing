{
  "nbformat": 4,
  "nbformat_minor": 0,
  "metadata": {
    "colab": {
      "name": "1-initial-test.ipynb",
      "provenance": [],
      "authorship_tag": "ABX9TyNMm0mCl7G8Pd1XyAUfk6Yu",
      "include_colab_link": true
    },
    "kernelspec": {
      "name": "python3",
      "display_name": "Python 3"
    }
  },
  "cells": [
    {
      "cell_type": "markdown",
      "metadata": {
        "id": "view-in-github",
        "colab_type": "text"
      },
      "source": [
        "<a href=\"https://colab.research.google.com/github/bnubald/colab-testing/blob/master/deps/1_initial_test.ipynb\" target=\"_parent\"><img src=\"https://colab.research.google.com/assets/colab-badge.svg\" alt=\"Open In Colab\"/></a>"
      ]
    },
    {
      "cell_type": "code",
      "metadata": {
        "id": "01N_nerldIct",
        "colab_type": "code",
        "colab": {}
      },
      "source": [
        "import os, sys\n",
        "from os import path"
      ],
      "execution_count": 0,
      "outputs": []
    },
    {
      "cell_type": "markdown",
      "metadata": {
        "id": "7A0yP-RKiw5m",
        "colab_type": "text"
      },
      "source": [
        "Checking if in Google Colab environment"
      ]
    },
    {
      "cell_type": "code",
      "metadata": {
        "id": "ggdYk4zuiqT1",
        "colab_type": "code",
        "colab": {}
      },
      "source": [
        "#Check if Google Colab environment\n",
        "try:\n",
        "    import google.colab\n",
        "    IN_COLAB = True\n",
        "except:\n",
        "    IN_COLAB = False"
      ],
      "execution_count": 0,
      "outputs": []
    },
    {
      "cell_type": "code",
      "metadata": {
        "id": "cTvmOLI0itoA",
        "colab_type": "code",
        "colab": {
          "base_uri": "https://localhost:8080/",
          "height": 34
        },
        "outputId": "2c792878-f3d0-42c6-c2ea-6fb4fabda847"
      },
      "source": [
        "print(IN_COLAB)"
      ],
      "execution_count": 3,
      "outputs": [
        {
          "output_type": "stream",
          "text": [
            "True\n"
          ],
          "name": "stdout"
        }
      ]
    },
    {
      "cell_type": "markdown",
      "metadata": {
        "id": "KPCjpu7CiwLx",
        "colab_type": "text"
      },
      "source": [
        "Mounting google drive (Requires authorization code)"
      ]
    },
    {
      "cell_type": "code",
      "metadata": {
        "id": "89gmGbnnivem",
        "colab_type": "code",
        "colab": {}
      },
      "source": [
        "from google.colab import drive\n",
        "\n",
        "ROOT = \"/content/drive\"\n",
        "#Mount the drive at /content/drive\n",
        "drive.mount(ROOT)"
      ],
      "execution_count": 0,
      "outputs": []
    }
  ]
}